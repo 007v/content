{
 "metadata": {
  "name": ""
 },
 "nbformat": 3,
 "nbformat_minor": 0,
 "worksheets": [
  {
   "cells": [
    {
     "cell_type": "heading",
     "level": 1,
     "metadata": {},
     "source": [
      "Lab 7: MapReduce, mrjob, and EC2"
     ]
    },
    {
     "cell_type": "markdown",
     "metadata": {},
     "source": [
      "In this week's lab, we will mostly ignore statistics and instead focus on some practical issues that you will encouter on Homework 4. Section 4 of that homework includes new python techniques (classes, inheritance), an unfamiliar approach to breaking up large computing problems (MapReduce), code that has to be run outside the friendly confines of an ipython notebook, and then you are asked to put it all to use on Amazon's Elastic Compute Cloud (EC2). This sounds very complicated, but the end result is a simpler algorithm for that problem of calculating similarity scores, as well as the ability to expand to arbitrarily large data sets."
     ]
    },
    {
     "cell_type": "heading",
     "level": 2,
     "metadata": {},
     "source": [
      "1. Classes and generators in python"
     ]
    },
    {
     "cell_type": "markdown",
     "metadata": {},
     "source": [
      "On previous homeworks, nearly all of the coding has been done by writing python functions plus a small amount of code that calls the functions you have written. Included below is the code for the mrjob word_count example that was covered in lecture (the canonical MapReduce example). There are a lot of new features here!"
     ]
    },
    {
     "cell_type": "code",
     "collapsed": true,
     "input": [
      "\"\"\"\n",
      "word_count.py\n",
      "\n",
      "Uses mrjob to count the number of words in a sample of text.\n",
      "\n",
      "This won't work inside the ipython notebook. You have to copy it to a .py file and run\n",
      "from the command line as:\n",
      "\n",
      "  $ python word_count.py some_text_file > word_count_output.txt\n",
      "\n",
      "\"\"\"\n",
      "\n",
      "from mrjob.job import MRJob\n",
      "\n",
      "class MRWordFrequencyCount(MRJob):\n",
      "\n",
      "    def mapper(self, _, line):\n",
      "        yield \"chars\", len(line)\n",
      "        yield \"words\", len(line.split())\n",
      "        yield \"lines\", 1\n",
      "\n",
      "    def reducer(self, key, values):\n",
      "        yield key, sum(values)\n",
      "\n",
      "if __name__ == '__main__':\n",
      "    MRWordFrequencyCount.run()\n"
     ],
     "language": "python",
     "metadata": {},
     "outputs": []
    },
    {
     "cell_type": "heading",
     "level": 3,
     "metadata": {},
     "source": [
      "1.1 Classes in python"
     ]
    },
    {
     "cell_type": "markdown",
     "metadata": {},
     "source": [
      "Classes "
     ]
    },
    {
     "cell_type": "heading",
     "level": 2,
     "metadata": {},
     "source": [
      "2. Setting up your Amazon Web Services account"
     ]
    },
    {
     "cell_type": "markdown",
     "metadata": {},
     "source": [
      "There is quite a bit of overhead involved in setting up an AWS account and keeping an eye on the jobs that you end up running. In lab, we will run through an example account activation including:\n",
      "\n",
      "* Account creation\n",
      "* Signing up for Elastic MapReduce\n",
      "* Storing security credentials in your mrjob.conf file\n",
      "* Redeeming account credits\n",
      "* Billing alerts\n",
      "* Checking on running jobs using the console\n",
      "\n",
      "These documents (also linked from HW4) are very useful: [Instructions for Amazon Setup notebook](http://nbviewer.ipython.org/urls/raw.github.com/cs109/content/master/InstructionsForAmazonEMR.ipynb), [Elastic MapReduce Quickstart](http://pythonhosted.org/mrjob/guides/emr-quickstart.html)"
     ]
    },
    {
     "cell_type": "heading",
     "level": 2,
     "metadata": {},
     "source": [
      "3. MapReduce exercises"
     ]
    },
    {
     "cell_type": "markdown",
     "metadata": {},
     "source": [
      "![MapReduce schematic](https://developers.google.com/appengine/docs/python/images/mapreduce_mapshuffle.png)\n",
      "<br /> \\[<span style=\"font-size: small;\">Image from [https://developers.google.com/appengine/docs/python/dataprocessing/](https://developers.google.com/appengine/docs/python/dataprocessing/)</span>\\]\n",
      "\n",
      "Below are two practice problems to get the hang of writing MapReduce algorithms. Remember, you will be writing these programs in separate files that you run from the command line. You are welcome to try out EC2, but these are small datasets and it will generally be much faster to run locally."
     ]
    },
    {
     "cell_type": "heading",
     "level": 3,
     "metadata": {},
     "source": [
      "3.1 Anagram finder"
     ]
    },
    {
     "cell_type": "markdown",
     "metadata": {},
     "source": [
      "First, grab the file [word_list.txt](word_list.txt). This contains a list of six-letter words that I dumped from my spellchecker. To keep things simple, all of the words consist of lower-case letters only."
     ]
    },
    {
     "cell_type": "code",
     "collapsed": false,
     "input": [
      "word_list = [word.strip() for word in open(\"word_list.txt\").readlines()]\n",
      "print \"{0} words in list\".format(len(word_list))\n",
      "print \"First ten words: {0}\".format(\", \".join(word_list[0:10]))"
     ],
     "language": "python",
     "metadata": {},
     "outputs": []
    },
    {
     "cell_type": "markdown",
     "metadata": {},
     "source": [
      "Use mrjob to write a class that finds all anagrams in word_list.txt. "
     ]
    },
    {
     "cell_type": "heading",
     "level": 3,
     "metadata": {},
     "source": [
      "3.2 Friends don't let friends root for the Cardinals"
     ]
    },
    {
     "cell_type": "markdown",
     "metadata": {},
     "source": [
      "![Cardinals v. Red Sox](http://www.stlcardinalbaseball.com/wp-content/uploads/2013/10/CARDINALS-V-RED-SOX-650x325.jpg)"
     ]
    },
    {
     "cell_type": "markdown",
     "metadata": {},
     "source": [
      "For the next problem, download the file [baseball_friends.csv](baseball_friends.csv). Each row of this csv file contains the following:\n",
      "\n",
      "* A person's name\n",
      "* The team that person is rooting for -- either \"Cardinals\" or \"Red Sox\"\n",
      "* A list of that person's friends, which could have arbitrary length\n",
      "\n",
      "Let's take a look at one line:"
     ]
    },
    {
     "cell_type": "code",
     "collapsed": false,
     "input": [
      "friends = open(\"baseball_friends.csv\").readlines()\n",
      "print friends[0].strip()\n",
      "print len(friends[0].split(\",\")) - 2"
     ],
     "language": "python",
     "metadata": {},
     "outputs": []
    },
    {
     "cell_type": "markdown",
     "metadata": {},
     "source": [
      "This line tells us that Aaden is a Red Sox friend and he has 65 friends, who are all listed here. For this problem, it's safe to assume that all of the names are unique and that the friendship structure is symmetric (*i.e.* if Alannah shows up in Aaden's friends list, then Aaden will show up in Alannah's friends list).\n",
      "\n",
      "Write an mrjob class that lists each person's name, their favorite team, the number of Red Sox fans they are friends with, and the number of Cardinals fans they are friends with.\n",
      "\n",
      "After running that program, we can look at the results to get an idea of the absurdly simple model that I used to generate the input csv file. You might need to modify the code below if the format of your output file doesn't quite match mine."
     ]
    },
    {
     "cell_type": "code",
     "collapsed": false,
     "input": [
      "import pandas as pd\n",
      "import json\n",
      "\n",
      "# Read results.\n",
      "result_file = \"baseball_friends.out\"\n",
      "result = [[json.loads(field) for field in line.strip().split('\\t')] for line in open(result_file)]\n",
      "\n",
      "# Break out columns.\n",
      "names = [x[0] for x in result]\n",
      "teams = [x[1][0] for x in result]\n",
      "redsox_count = [x[1][1] for x in result]\n",
      "cardinals_count = [x[1][2] for x in result]\n",
      "\n",
      "# Combine in data frame.\n",
      "result = pd.DataFrame(index=names, data={'teams': teams, 'redsox_count': redsox_count, \n",
      "                                         'cardinals_count': cardinals_count})"
     ],
     "language": "python",
     "metadata": {},
     "outputs": []
    },
    {
     "cell_type": "code",
     "collapsed": false,
     "input": [
      "%matplotlib inline\n",
      "import matplotlib.pyplot as plt\n",
      "from matplotlib import rcParams\n",
      "rcParams['figure.figsize'] = (10, 6)\n",
      "rcParams['font.size'] = 14\n",
      "\n",
      "# Average number of friends by affiliation.\n",
      "print result.groupby('teams').mean()\n",
      "\n",
      "# Histogram the affiliations of people who are friends of Red Sox fans.\n",
      "plt.hist(result.redsox_count[result.teams == \"Red Sox\"], label=\"Red Sox friend Red Sox\")\n",
      "plt.hist(result.cardinals_count[result.teams == \"Red Sox\"], label=\"Red Sox friend Cardinals\")\n",
      "plt.xlabel('number of friends')\n",
      "plt.ylabel('count')\n",
      "plt.legend(loc=0)"
     ],
     "language": "python",
     "metadata": {},
     "outputs": []
    }
   ],
   "metadata": {}
  }
 ]
}