{
 "metadata": {
  "name": ""
 },
 "nbformat": 3,
 "nbformat_minor": 0,
 "worksheets": [
  {
   "cells": [
    {
     "cell_type": "heading",
     "level": 1,
     "metadata": {},
     "source": [
      "Lab 9 - Graphs & Networks\n"
     ]
    },
    {
     "cell_type": "markdown",
     "metadata": {},
     "source": [
      "In this lab we will do the following:\n",
      "\n",
      "0. Get a LinkedIn API key\n",
      "1. Use oauth2 to get an acceess token\n",
      "2. First we are going to download our own LinkedIn data using the LinkedIn API. \n",
      "3. Then we are exporting this data as a csv file to be able to import it into Gephi. \n",
      "4. Before starting Gephi we will do some network analysis directly in python\n",
      "5. We will analyze our data with the external tool Gephi\n",
      "\n",
      "You can download this notebook from [here](https://raw.github.com/cs109/content/master/labs/lab9/lab_9.ipynb)."
     ]
    },
    {
     "cell_type": "markdown",
     "metadata": {},
     "source": [
      "### 0. Install oauth2 package"
     ]
    },
    {
     "cell_type": "code",
     "collapsed": false,
     "input": [
      "!pip install oauth2\n",
      "!pip install unidecode"
     ],
     "language": "python",
     "metadata": {},
     "outputs": []
    },
    {
     "cell_type": "markdown",
     "metadata": {},
     "source": [
      "### 1. Get API key\n",
      "\n",
      "Get a LinkedIn API key at http://developer.linkedin.com/documents/authentication (choose r_network)\n",
      "\n",
      "Save your authentication:\n"
     ]
    },
    {
     "cell_type": "code",
     "collapsed": false,
     "input": [
      "#Johanna\n",
      "\n",
      "#user_token = '6a516d33-786e-443c-b6e9-def654f88098'\n",
      "#user_secret = 'c03c49da-9dae-4b05-a2af-82e40426439f'\n",
      "\n",
      "#api_key = 'xpsswsigqw4r'\n",
      "#secret_key = 'aIRpJHhA8JHTRsyb'\n",
      "\n",
      "#Alex\n",
      "\n",
      "api_key = 'g8lq60ilatfh'\n",
      "secret_key = 'XEOmeklHWHtmwgoQ'\n",
      "\n",
      "user_token = 'a8991ba6-9a27-40d7-ac6f-9280cc1dc650'\n",
      "user_secret = '43a11017-c1f3-4c30-afab-43df3c39b938'\n"
     ],
     "language": "python",
     "metadata": {},
     "outputs": []
    },
    {
     "cell_type": "markdown",
     "metadata": {},
     "source": [
      "### 2. Get Access Token\n",
      "\n",
      "Next we are scraping our data using the LinkedIn API. (Code for using the LinkedIn API is taken and adjusted from http://dataiku.com/blog/2012/12/07/visualizing-your-linkedin-graph-using-gephi-part-1.html).\n"
     ]
    },
    {
     "cell_type": "code",
     "collapsed": false,
     "input": [
      "import oauth2 as oauth\n",
      "import urlparse\n",
      "        \n",
      "def request_token(consumer):\n",
      "    client = oauth.Client(consumer)\n",
      "    request_token_url = 'https://api.linkedin.com/uas/oauth/requestToken?scope=r_network'\n",
      "    resp, content = client.request(request_token_url, \"POST\")\n",
      "    if resp['status'] != '200':\n",
      "        raise Exception(\"Invalid response %s.\" % resp['status'])\n",
      "    request_token = dict(urlparse.parse_qsl(content))\n",
      "    return request_token\n",
      "\n",
      "#consumer = oauth.Consumer(api_key, secret_key)\n",
      "#r_token = request_token(consumer)\n",
      "#print \"Request Token: oauth_token: %s, oauth_token_secret: %s\" % (r_token['oauth_token'], r_token['oauth_token_secret'])\n",
      " "
     ],
     "language": "python",
     "metadata": {},
     "outputs": []
    },
    {
     "cell_type": "code",
     "collapsed": false,
     "input": [
      "def authorize(request_token):\n",
      "    authorize_url ='https://api.linkedin.com/uas/oauth/authorize'\n",
      "    print \"Go to the following link in your browser:\"\n",
      "    print \"%s?oauth_token=%s\" % (authorize_url, request_token['oauth_token'])\n",
      "    print\n",
      "    accepted = 'n'\n",
      "    while accepted.lower() == 'n':\n",
      "        accepted = raw_input('Have you authorized me? (y/n) ')\n",
      "    oauth_verifier = raw_input('What is the PIN? ')\n",
      "    return oauth_verifier\n",
      "  \n",
      "#oauth_verifier = authorize(r_token)"
     ],
     "language": "python",
     "metadata": {},
     "outputs": []
    },
    {
     "cell_type": "code",
     "collapsed": false,
     "input": [
      "def access(consumer, request_token, oauth_verifier):\n",
      "    access_token_url = 'https://api.linkedin.com/uas/oauth/accessToken'\n",
      "    token = oauth.Token(request_token['oauth_token'], request_token['oauth_token_secret'])\n",
      "    token.set_verifier(oauth_verifier)\n",
      "    client = oauth.Client(consumer, token)\n",
      "    resp, content = client.request(access_token_url, \"POST\")\n",
      "    access_token = dict(urlparse.parse_qsl(content))\n",
      "    return access_token\n",
      "          \n",
      "#a_token = access(consumer, r_token, oauth_verifier)\n",
      "#print a_token\n",
      "#print \"Access Token: oauth_token = %s, oauth_token_secret = %s\" % (a_token['oauth_token'], a_token['oauth_token_secret'])\n",
      "#print \"You may now access protected resources using the access tokens above.\""
     ],
     "language": "python",
     "metadata": {},
     "outputs": []
    },
    {
     "cell_type": "code",
     "collapsed": false,
     "input": [
      "consumer = oauth.Consumer(api_key, secret_key)\n",
      "\n",
      "r_token = request_token(consumer)\n",
      "print \"Request Token: oauth_token: %s, oauth_token_secret: %s\" % (r_token['oauth_token'], r_token['oauth_token_secret'])\n",
      "\n",
      "oauth_verifier = authorize(r_token)\n",
      "\n",
      "a_token = access(consumer, r_token, oauth_verifier)\n",
      "print a_token\n",
      "print \"Access Token: oauth_token = %s, oauth_token_secret = %s\" % (a_token['oauth_token'], a_token['oauth_token_secret'])\n",
      "print \"You may now access protected resources using the access tokens above.\""
     ],
     "language": "python",
     "metadata": {},
     "outputs": []
    },
    {
     "cell_type": "markdown",
     "metadata": {},
     "source": [
      "### 3. Get data, clean it and store to disk"
     ]
    },
    {
     "cell_type": "code",
     "collapsed": false,
     "input": [
      "import simplejson\n",
      "import codecs\n",
      " \n",
      "output_file = 'linkedIn_links.csv'\n",
      "my_name = 'Your Name'\n",
      " \n",
      "def linkedin_connections():\n",
      "    # Use your credentials to build the oauth client\n",
      "    consumer = oauth.Consumer(key=api_key, secret=secret_key)\n",
      "    token = oauth.Token(key=a_token['oauth_token'], secret=a_token['oauth_token_secret'])\n",
      "    client = oauth.Client(consumer, token)\n",
      "    \n",
      "    # Fetch first degree connections\n",
      "    resp, content = client.request('http://api.linkedin.com/v1/people/~/connections?format=json')\n",
      "    results = simplejson.loads(content)\n",
      "    \n",
      "    # File that will store the results\n",
      "    output = codecs.open(output_file, 'w', 'utf-8')\n",
      "    \n",
      "    # Loop through the 1st degree connection and see how they connect to each other\n",
      "    for result in results[\"values\"]:\n",
      "        con = \"%s %s\" % (result[\"firstName\"].replace(\",\", \" \"), result[\"lastName\"].replace(\",\", \" \"))\n",
      "        print >>output, \"%s,%s\" % (my_name, con)\n",
      "        # This is the trick, use the search API to get related connections\n",
      "        u = \"https://api.linkedin.com/v1/people/%s:(relation-to-viewer:(related-connections))?format=json\" % result[\"id\"]\n",
      "        resp, content = client.request(u)\n",
      "        rels = simplejson.loads(content)\n",
      "        try:\n",
      "            for rel in rels['relationToViewer']['relatedConnections']['values']:\n",
      "                sec = \"%s %s\" % (rel[\"firstName\"].replace(\",\", \" \"), rel[\"lastName\"].replace(\",\", \" \"))\n",
      "                print >>output, \"%s,%s\" % (con, sec)\n",
      "        except:\n",
      "            pass\n",
      "\n",
      "linkedin_connections()"
     ],
     "language": "python",
     "metadata": {},
     "outputs": []
    },
    {
     "cell_type": "code",
     "collapsed": true,
     "input": [
      "from operator import itemgetter\n",
      "from unidecode import unidecode\n",
      " \n",
      "clean_output_file = 'linkedIn_links_clean.csv'\n",
      " \n",
      "def stringify(chain):\n",
      "    # Simple utility to build the nodes labels\n",
      "    allowed = '0123456789abcdefghijklmnopqrstuvwxyz_'\n",
      "    c = unidecode(chain.strip().lower().replace(' ', '_'))\n",
      "    return ''.join([letter for letter in c if letter in allowed])\n",
      " \n",
      " \n",
      "def clean(f_input, f_output):\n",
      "    output = open(f_output, 'w')\n",
      "    # Store the edges inside a set for dedup\n",
      "    edges = set()\n",
      "    for line in codecs.open(f_input, 'r', 'utf-8'):\n",
      "        from_person, to_person = line.strip().split(',')\n",
      "        _f = stringify(from_person)\n",
      "        _t = stringify(to_person)\n",
      "        # Reorder the edge tuple\n",
      "        _e = tuple(sorted((_f, _t), key=itemgetter(0, 1)))\n",
      "        edges.add(_e)\n",
      "    for edge in edges:\n",
      "        print >>output, '%s,%s' % (edge[0], edge[1])\n",
      " \n",
      "clean(output_file, clean_output_file)"
     ],
     "language": "python",
     "metadata": {},
     "outputs": []
    },
    {
     "cell_type": "markdown",
     "metadata": {},
     "source": [
      "When you have run these cells you have a 'linkedIn_links_clean.csv' file in the directory of your notebook, that is compatible with gephi. **If you don't have a LinkedIn account or think your network is boring you can use one of ours which you can get [here](https://raw.github.com/cs109/content/master/labs/lab9/linkedin_alexander_lex.csv).**\n",
      "\n",
      "## 4. Network Analysis with Gephi\n",
      "\n",
      "### Installation\n",
      "\n",
      "Gephi requires Java to run, at least a JRE of version 6. To check if you have java installed, open a console and run\n",
      "\n",
      "```\n",
      "$ java -version\n",
      "java version \"1.7.0_25\"\n",
      "OpenJDK Runtime Environment (IcedTea 2.3.12) (7u25-2.3.12-4ubuntu3)\n",
      "OpenJDK 64-Bit Server VM (build 23.7-b01, mixed mode)\n",
      "```\n",
      "\n",
      "If you don't have java or only an outdated version, go [here](http://www.oracle.com/technetwork/java/javase/downloads/jdk7-downloads-1880260.html) to download it.\n",
      "\n",
      "To install gephi, [download](http://gephi.org/users/download/) it and follow these [installation instructions](http://gephi.org/users/install/).\n",
      "\n",
      "### Analysis\n",
      "\n",
      "The analysis with a GUI based tool is hard to convey in an IPython Notebook ;). If you don't want to watch the video, here is the [Gephi Quick Start guide](http://gephi.org/users/quick-start/). \n",
      "\n",
      "Here are the things we are doing:\n",
      "\n",
      "  * Applying a force directed layout with increased repulsion strength\n",
      "  * Remove yourself, explore shortest paths between partners\n",
      "  * Run force-directed again\n",
      "  * Calculating a PageRank \n",
      "  * Color nodes by PageRank\n",
      "  * Trying a couple of other statistics\n",
      "  * Size by PageRank\n",
      "  * Filter by Topology, Degree\n",
      "  * \"Cluster\" by running Modularity. Try different parameters. \n",
      "  * Highlight via \"Partition\"\n",
      " \n",
      " \n",
      "\n",
      "\n",
      "\n"
     ]
    }
   ],
   "metadata": {}
  }
 ]
}